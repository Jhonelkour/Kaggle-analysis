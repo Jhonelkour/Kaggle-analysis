{
 "cells": [
  {
   "cell_type": "code",
   "execution_count": 77,
   "metadata": {},
   "outputs": [],
   "source": [
    "import numpy as np\n",
    "from numpy import loadtxt"
   ]
  },
  {
   "cell_type": "markdown",
   "metadata": {},
   "source": [
    "1. The data in 'wind.data' has the following format::\n",
    "\n",
    "        61  1  1 15.04 14.96 13.17  9.29 13.96  9.87 13.67 10.25 10.83 12.58 18.50 15.04\n",
    "        61  1  2 14.71 16.88 10.83  6.50 12.62  7.67 11.50 10.04  9.79  9.67 17.54 13.83\n",
    "        61  1  3 18.50 16.88 12.33 10.13 11.17  6.17 11.25  8.04  8.50  7.67 12.75 12.71\n",
    "\n",
    "   The first three columns are year, month and day.  The\n",
    "   remaining 12 columns are average windspeeds in knots at 12\n",
    "   locations in Ireland on that day.\n",
    "\n",
    "   Use the 'loadtxt' function from numpy to read the data into\n",
    "   an array."
   ]
  },
  {
   "cell_type": "code",
   "execution_count": 78,
   "metadata": {},
   "outputs": [
    {
     "name": "stdout",
     "output_type": "stream",
     "text": [
      "[[61.    1.    1.   ... 12.58 18.5  15.04]\n",
      " [61.    1.    2.   ...  9.67 17.54 13.83]\n",
      " [61.    1.    3.   ...  7.67 12.75 12.71]\n",
      " ...\n",
      " [78.   12.   29.   ... 16.42 18.88 29.58]\n",
      " [78.   12.   30.   ... 12.12 14.67 28.79]\n",
      " [78.   12.   31.   ... 11.38 12.08 22.08]]\n"
     ]
    }
   ],
   "source": [
    "wind_data = loadtxt('wind.data')\n",
    "print(wind_data)"
   ]
  },
  {
   "cell_type": "code",
   "execution_count": 79,
   "metadata": {},
   "outputs": [
    {
     "data": {
      "text/plain": [
       "(6574, 15)"
      ]
     },
     "execution_count": 79,
     "metadata": {},
     "output_type": "execute_result"
    }
   ],
   "source": [
    "wind_data.shape"
   ]
  },
  {
   "cell_type": "code",
   "execution_count": 80,
   "metadata": {},
   "outputs": [
    {
     "data": {
      "text/plain": [
       "array([[61.,  1.,  1.],\n",
       "       [61.,  1.,  2.],\n",
       "       [61.,  1.,  3.],\n",
       "       ...,\n",
       "       [78., 12., 29.],\n",
       "       [78., 12., 30.],\n",
       "       [78., 12., 31.]])"
      ]
     },
     "execution_count": 80,
     "metadata": {},
     "output_type": "execute_result"
    }
   ],
   "source": [
    "dates = wind_data[:,:3] # Year / Month / Day \n",
    "dates"
   ]
  },
  {
   "cell_type": "code",
   "execution_count": 81,
   "metadata": {},
   "outputs": [
    {
     "data": {
      "text/plain": [
       "array([[15.04, 14.96, 13.17, ..., 12.58, 18.5 , 15.04],\n",
       "       [14.71, 16.88, 10.83, ...,  9.67, 17.54, 13.83],\n",
       "       [18.5 , 16.88, 12.33, ...,  7.67, 12.75, 12.71],\n",
       "       ...,\n",
       "       [14.  , 10.29, 14.42, ..., 16.42, 18.88, 29.58],\n",
       "       [18.5 , 14.04, 21.29, ..., 12.12, 14.67, 28.79],\n",
       "       [20.33, 17.41, 27.29, ..., 11.38, 12.08, 22.08]])"
      ]
     },
     "execution_count": 81,
     "metadata": {},
     "output_type": "execute_result"
    }
   ],
   "source": [
    "data = wind_data[:, 3:]\n",
    "data"
   ]
  },
  {
   "cell_type": "markdown",
   "metadata": {},
   "source": [
    "2. Calculate the min, max and mean windspeeds and standard deviation of the\n",
    "   windspeeds over all the locations and all the times (a single set of numbers\n",
    "   for the entire dataset)."
   ]
  },
  {
   "cell_type": "code",
   "execution_count": 82,
   "metadata": {},
   "outputs": [
    {
     "name": "stdout",
     "output_type": "stream",
     "text": [
      "2. Statistics over all values\n",
      "\n",
      "The min windspeeds is :  0.0\n",
      "\n",
      "The max windspeeds is :  42.54\n",
      "\n",
      "The min windspeeds is :  10.23\n",
      "\n",
      "The standar deviation of the windspeed is: 5.6\n"
     ]
    }
   ],
   "source": [
    "print('2. Statistics over all values')\n",
    "\n",
    "Min_windspeed = np.min(data)\n",
    "print(\"\\nThe min windspeeds is : \",Min_windspeed)\n",
    "\n",
    "Max_windspeed = np.max(data)\n",
    "print(\"\\nThe max windspeeds is : \",Max_windspeed)\n",
    "\n",
    "Mean_windspeed = np.mean(data).round(2)\n",
    "print(\"\\nThe min windspeeds is : \",Mean_windspeed)\n",
    "\n",
    "Std_windspeed = np.std(data).round(2)\n",
    "print(\"\\nThe standar deviation of the windspeed is:\", Std_windspeed)\n",
    "\n"
   ]
  },
  {
   "cell_type": "markdown",
   "metadata": {},
   "source": [
    "3. Calculate the min, max and mean windspeeds and standard deviations of the\n",
    "   windspeeds at each location over all the days (a different set of numbers\n",
    "   for each location)"
   ]
  },
  {
   "cell_type": "code",
   "execution_count": 83,
   "metadata": {},
   "outputs": [
    {
     "name": "stdout",
     "output_type": "stream",
     "text": [
      "3. Statistics over all days at each location\n",
      "\n",
      "The min  [0.67 0.21 1.5  0.   0.13 0.   0.   0.   0.   0.04 0.13 0.67]\n",
      "\n",
      "The max   [35.8  33.37 33.84 28.46 37.54 26.16 30.37 31.08 25.88 28.21 42.38 42.54]\n",
      "\n",
      "The min  [12.36371463 10.64644813 11.66010344  6.30627472 10.45688013  7.09225434\n",
      "  9.7968345   8.49442044  8.49581838  8.70726803 13.121007   15.59946152]\n",
      "\n",
      "The standar deviation  [5.61918301 5.26820081 5.00738377 3.60513309 4.93536333 3.96838126\n",
      " 4.97689374 4.49865783 4.16746101 4.50327222 5.83459319 6.69734719]\n"
     ]
    }
   ],
   "source": [
    "print('3. Statistics over all days at each location')\n",
    "\n",
    "Min_windspeed_0 = np.min(data, axis= 0)\n",
    "print(\"\\nThe min \",Min_windspeed_0)\n",
    "\n",
    "Max_windspeed_0 = np.max(data, axis= 0)\n",
    "print(\"\\nThe max  \",Max_windspeed_0)\n",
    "\n",
    "Mean_windspeed_0 = np.mean(data, axis= 0)\n",
    "print(\"\\nThe min \",Mean_windspeed_0)\n",
    "\n",
    "Std_windspeed_0 = np.std(data, axis= 0)\n",
    "print(\"\\nThe standar deviation \", Std_windspeed_0)"
   ]
  },
  {
   "cell_type": "markdown",
   "metadata": {},
   "source": [
    "4. Calculate the min, max and mean windspeed and standard deviations of the\n",
    "   windspeeds across all the locations at each day (a different set of numbers\n",
    "   for each day)"
   ]
  },
  {
   "cell_type": "code",
   "execution_count": 84,
   "metadata": {},
   "outputs": [
    {
     "name": "stdout",
     "output_type": "stream",
     "text": [
      "4. Statistics over all locations for each day\n",
      "\n",
      "The min  :  [9.29 6.5  6.17 ... 8.71 9.13 9.59]\n",
      "\n",
      "The max :  [18.5  17.54 18.5  ... 29.58 28.79 27.29]\n",
      "\n",
      "The min  :  [13.09666667 11.79833333 11.34166667 ... 14.89       15.3675\n",
      " 15.4025    ]\n",
      "\n",
      "The standar deviation  [2.5773188  3.28972854 3.50543348 ... 5.51175108 5.30456427 5.45971172]\n"
     ]
    }
   ],
   "source": [
    "print('4. Statistics over all locations for each day')\n",
    "\n",
    "\n",
    "Min_windspeed_1 = np.min(data, axis= 1)\n",
    "print(\"\\nThe min  : \",Min_windspeed_1)\n",
    "\n",
    "Max_windspeed_1 = np.max(data, axis= 1)\n",
    "print(\"\\nThe max : \",Max_windspeed_1)\n",
    "\n",
    "Mean_windspeed_1 = np.mean(data, axis= 1)\n",
    "print(\"\\nThe min  : \",Mean_windspeed_1)\n",
    "\n",
    "Std_windspeed_1 = np.std(data, axis= 1)\n",
    "print(\"\\nThe standar deviation \", Std_windspeed_1)"
   ]
  },
  {
   "cell_type": "markdown",
   "metadata": {},
   "source": [
    "5. Find the location which has the greatest windspeed on each day (an integer\n",
    "   column number for each day)."
   ]
  },
  {
   "cell_type": "code",
   "execution_count": 85,
   "metadata": {},
   "outputs": [
    {
     "name": "stdout",
     "output_type": "stream",
     "text": [
      "\n",
      "The Location which has the greattest windspeed is  :  [10 10  0 ... 11 11  2]\n"
     ]
    }
   ],
   "source": [
    "Arg_max_windspeed_1 = np.argmax(data, axis= 1)\n",
    "print(\"\\nThe Location which has the greattest windspeed is  : \",Arg_max_windspeed_1)"
   ]
  },
  {
   "cell_type": "markdown",
   "metadata": {},
   "source": [
    "6. Find the year, month and day on which the greatest windspeed was recorded.\n"
   ]
  },
  {
   "cell_type": "code",
   "execution_count": 92,
   "metadata": {},
   "outputs": [
    {
     "name": "stdout",
     "output_type": "stream",
     "text": [
      "\n",
      "Maximum values per row: [18.5  17.54 18.5  ... 29.58 28.79 27.29]\n",
      "\n",
      "Row with the highest maximum value: 2161\n",
      "\n",
      "6. The year, month and day on which the greatest windspeed was recorded\n",
      "\n",
      "Year: 66\n",
      "\n",
      "Month: 12\n",
      "\n",
      "Day: 2\n"
     ]
    }
   ],
   "source": [
    "daily_max = data.max(axis=1)\n",
    "max_row = daily_max.argmax()\n",
    "\n",
    "\n",
    "print(\"\\nMaximum values per row:\", daily_max)  \n",
    "print(\"\\nRow with the highest maximum value:\", max_row)\n",
    "\n",
    "print('\\n6. The year, month and day on which the greatest windspeed was recorded')\n",
    "print('\\nYear:', int(wind_data[max_row, 0]))\n",
    "print('\\nMonth:', int(wind_data[max_row, 1]))\n",
    "print('\\nDay:', int(wind_data[max_row, 2]))\n",
    "\n",
    "\n",
    "\n",
    "\n"
   ]
  },
  {
   "cell_type": "markdown",
   "metadata": {},
   "source": [
    "7. Find the average windspeed in January for each location."
   ]
  },
  {
   "cell_type": "code",
   "execution_count": 87,
   "metadata": {},
   "outputs": [],
   "source": [
    "Junary_indices = wind_data[:,1] == 1\n",
    "Junary_data = data[Junary_indices]\n",
    "Mean_junary = np.mean(Junary_data, axis=0)"
   ]
  },
  {
   "cell_type": "code",
   "execution_count": 88,
   "metadata": {},
   "outputs": [
    {
     "name": "stdout",
     "output_type": "stream",
     "text": [
      "7. Statistics for January\n",
      "  mean: [14.86955197 12.92166667 13.29962366  7.19949821 11.67571685  8.05483871\n",
      " 11.81935484  9.5094086   9.54320789 10.05356631 14.55051971 18.02876344]\n"
     ]
    }
   ],
   "source": [
    "print('7. Statistics for January')\n",
    "print('  mean:', Mean_junary) "
   ]
  }
 ],
 "metadata": {
  "kernelspec": {
   "display_name": "Python 3",
   "language": "python",
   "name": "python3"
  },
  "language_info": {
   "codemirror_mode": {
    "name": "ipython",
    "version": 3
   },
   "file_extension": ".py",
   "mimetype": "text/x-python",
   "name": "python",
   "nbconvert_exporter": "python",
   "pygments_lexer": "ipython3",
   "version": "3.11.5"
  }
 },
 "nbformat": 4,
 "nbformat_minor": 2
}
